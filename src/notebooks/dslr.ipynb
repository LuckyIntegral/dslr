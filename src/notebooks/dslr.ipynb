{
 "cells": [
  {
   "cell_type": "markdown",
   "metadata": {},
   "source": [
    "# 🧙‍♂️ DSLR - Hogwarts Sorting Hat Algorithm\n",
    "\n",
    "This notebook demonstrates the main components of the DSLR project, which recreates Hogwarts' Sorting Hat using a logistic regression classifier built from scratch.\n",
    "\n",
    "## Overview\n",
    "\n",
    "We'll explore the following components:\n",
    "1. **Dataset Overview & Custom Statistical Analysis**\n",
    "2. **Data Visualization & Feature Selection**\n",
    "3. **Logistic Regression Implementation**\n",
    "4. **Comparing Different Optimization Algorithms**\n",
    "5. **Model Evaluation**"
   ]
  },
  {
   "cell_type": "markdown",
   "id": "049c1727",
   "metadata": {},
   "source": [
    "## Preparation: Setting Up the Environment\n",
    "\n",
    "Start by importing necessary Python libraries. These tools help load, clean, and visualize the data in a meaningful way."
   ]
  },
  {
   "cell_type": "code",
   "execution_count": null,
   "metadata": {},
   "outputs": [],
   "source": [
    "''' Prepare the environment for the project. '''\n",
    "import numpy as np\n",
    "import pandas as pd\n",
    "import matplotlib.pyplot as plt\n",
    "import seaborn as sns\n",
    "import os\n",
    "import sys\n",
    "\n",
    "sys.path.append('..')\n",
    "\n",
    "sns.set_style('whitegrid')\n",
    "plt.rcParams['figure.figsize'] = (9, 6)"
   ]
  },
  {
   "cell_type": "markdown",
   "metadata": {},
   "source": [
    "## 1. Dataset Overview & Custom Statistical Analysis\n",
    "\n",
    "- load the student dataset, which contains scores for various subjects and the house each student belongs to (Gryffindor, Ravenclaw, etc.)."
   ]
  },
  {
   "cell_type": "code",
   "execution_count": null,
   "metadata": {},
   "outputs": [],
   "source": [
    "train_dataset_path = '../../data/raw/dataset_train.csv'\n",
    "df = pd.read_csv(train_dataset_path)\n",
    "\n",
    "print(f\"Dataset shape: {df.shape}\")\n",
    "df.head()"
   ]
  },
  {
   "cell_type": "markdown",
   "id": "9ade00b4",
   "metadata": {},
   "source": [
    "- use the custom `describe.py` implementation to analyze it."
   ]
  },
  {
   "cell_type": "code",
   "execution_count": 17,
   "metadata": {},
   "outputs": [
    {
     "data": {
      "text/html": [
       "<div>\n",
       "<style scoped>\n",
       "    .dataframe tbody tr th:only-of-type {\n",
       "        vertical-align: middle;\n",
       "    }\n",
       "\n",
       "    .dataframe tbody tr th {\n",
       "        vertical-align: top;\n",
       "    }\n",
       "\n",
       "    .dataframe thead th {\n",
       "        text-align: right;\n",
       "    }\n",
       "</style>\n",
       "<table border=\"1\" class=\"dataframe\">\n",
       "  <thead>\n",
       "    <tr style=\"text-align: right;\">\n",
       "      <th></th>\n",
       "      <th>Index</th>\n",
       "      <th>Arithmancy</th>\n",
       "      <th>Astronomy</th>\n",
       "      <th>Herbology</th>\n",
       "      <th>Defense Against the Dark Arts</th>\n",
       "      <th>Divination</th>\n",
       "      <th>Muggle Studies</th>\n",
       "      <th>Ancient Runes</th>\n",
       "      <th>History of Magic</th>\n",
       "      <th>Transfiguration</th>\n",
       "      <th>Potions</th>\n",
       "      <th>Care of Magical Creatures</th>\n",
       "      <th>Charms</th>\n",
       "      <th>Flying</th>\n",
       "    </tr>\n",
       "  </thead>\n",
       "  <tbody>\n",
       "    <tr>\n",
       "      <th>count</th>\n",
       "      <td>1600.00000</td>\n",
       "      <td>1566.000000</td>\n",
       "      <td>1568.000000</td>\n",
       "      <td>1567.000000</td>\n",
       "      <td>1569.000000</td>\n",
       "      <td>1561.000000</td>\n",
       "      <td>1565.000000</td>\n",
       "      <td>1565.000000</td>\n",
       "      <td>1557.000000</td>\n",
       "      <td>1566.000000</td>\n",
       "      <td>1570.000000</td>\n",
       "      <td>1560.000000</td>\n",
       "      <td>1600.000000</td>\n",
       "      <td>1600.000000</td>\n",
       "    </tr>\n",
       "    <tr>\n",
       "      <th>mean</th>\n",
       "      <td>799.50000</td>\n",
       "      <td>49634.570243</td>\n",
       "      <td>39.797131</td>\n",
       "      <td>1.141020</td>\n",
       "      <td>-0.387863</td>\n",
       "      <td>3.153910</td>\n",
       "      <td>-224.589915</td>\n",
       "      <td>495.747970</td>\n",
       "      <td>2.963095</td>\n",
       "      <td>1030.096946</td>\n",
       "      <td>5.950373</td>\n",
       "      <td>-0.053427</td>\n",
       "      <td>-243.374409</td>\n",
       "      <td>21.958012</td>\n",
       "    </tr>\n",
       "    <tr>\n",
       "      <th>std</th>\n",
       "      <td>462.02453</td>\n",
       "      <td>16679.806036</td>\n",
       "      <td>520.298268</td>\n",
       "      <td>5.219682</td>\n",
       "      <td>5.212794</td>\n",
       "      <td>4.155301</td>\n",
       "      <td>486.344840</td>\n",
       "      <td>106.285165</td>\n",
       "      <td>4.425775</td>\n",
       "      <td>44.125116</td>\n",
       "      <td>3.147854</td>\n",
       "      <td>0.971457</td>\n",
       "      <td>8.783640</td>\n",
       "      <td>97.631602</td>\n",
       "    </tr>\n",
       "    <tr>\n",
       "      <th>min</th>\n",
       "      <td>0.00000</td>\n",
       "      <td>-24370.000000</td>\n",
       "      <td>-966.740546</td>\n",
       "      <td>-10.295663</td>\n",
       "      <td>-10.162119</td>\n",
       "      <td>-8.727000</td>\n",
       "      <td>-1086.496835</td>\n",
       "      <td>283.869609</td>\n",
       "      <td>-8.858993</td>\n",
       "      <td>906.627320</td>\n",
       "      <td>-4.697484</td>\n",
       "      <td>-3.313676</td>\n",
       "      <td>-261.048920</td>\n",
       "      <td>-181.470000</td>\n",
       "    </tr>\n",
       "    <tr>\n",
       "      <th>25%</th>\n",
       "      <td>399.75000</td>\n",
       "      <td>38511.500000</td>\n",
       "      <td>-489.551387</td>\n",
       "      <td>-4.308182</td>\n",
       "      <td>-5.259095</td>\n",
       "      <td>3.099000</td>\n",
       "      <td>-577.580096</td>\n",
       "      <td>397.511047</td>\n",
       "      <td>2.218653</td>\n",
       "      <td>1026.209993</td>\n",
       "      <td>3.646785</td>\n",
       "      <td>-0.671606</td>\n",
       "      <td>-250.652600</td>\n",
       "      <td>-41.870000</td>\n",
       "    </tr>\n",
       "    <tr>\n",
       "      <th>50%</th>\n",
       "      <td>799.50000</td>\n",
       "      <td>49013.500000</td>\n",
       "      <td>260.289446</td>\n",
       "      <td>3.469012</td>\n",
       "      <td>-2.589342</td>\n",
       "      <td>4.624000</td>\n",
       "      <td>-419.164294</td>\n",
       "      <td>463.918305</td>\n",
       "      <td>4.378176</td>\n",
       "      <td>1045.506996</td>\n",
       "      <td>5.874837</td>\n",
       "      <td>-0.044811</td>\n",
       "      <td>-244.867765</td>\n",
       "      <td>-2.515000</td>\n",
       "    </tr>\n",
       "    <tr>\n",
       "      <th>75%</th>\n",
       "      <td>1199.25000</td>\n",
       "      <td>60811.250000</td>\n",
       "      <td>524.771949</td>\n",
       "      <td>5.419183</td>\n",
       "      <td>4.904680</td>\n",
       "      <td>5.667000</td>\n",
       "      <td>254.994857</td>\n",
       "      <td>597.492230</td>\n",
       "      <td>5.825242</td>\n",
       "      <td>1058.436410</td>\n",
       "      <td>8.248173</td>\n",
       "      <td>0.589919</td>\n",
       "      <td>-232.552305</td>\n",
       "      <td>50.560000</td>\n",
       "    </tr>\n",
       "    <tr>\n",
       "      <th>max</th>\n",
       "      <td>1599.00000</td>\n",
       "      <td>104956.000000</td>\n",
       "      <td>1016.211940</td>\n",
       "      <td>11.612895</td>\n",
       "      <td>9.667405</td>\n",
       "      <td>10.032000</td>\n",
       "      <td>1092.388611</td>\n",
       "      <td>745.396220</td>\n",
       "      <td>11.889713</td>\n",
       "      <td>1098.958201</td>\n",
       "      <td>13.536762</td>\n",
       "      <td>3.056546</td>\n",
       "      <td>-225.428140</td>\n",
       "      <td>279.070000</td>\n",
       "    </tr>\n",
       "    <tr>\n",
       "      <th>range</th>\n",
       "      <td>1599.00000</td>\n",
       "      <td>129326.000000</td>\n",
       "      <td>1982.952486</td>\n",
       "      <td>21.908558</td>\n",
       "      <td>19.829525</td>\n",
       "      <td>18.759000</td>\n",
       "      <td>2178.885445</td>\n",
       "      <td>461.526611</td>\n",
       "      <td>20.748706</td>\n",
       "      <td>192.330881</td>\n",
       "      <td>18.234246</td>\n",
       "      <td>6.370222</td>\n",
       "      <td>35.620780</td>\n",
       "      <td>460.540000</td>\n",
       "    </tr>\n",
       "    <tr>\n",
       "      <th>iqr</th>\n",
       "      <td>799.50000</td>\n",
       "      <td>22299.750000</td>\n",
       "      <td>1014.323336</td>\n",
       "      <td>9.727365</td>\n",
       "      <td>10.163775</td>\n",
       "      <td>2.568000</td>\n",
       "      <td>832.574954</td>\n",
       "      <td>199.981183</td>\n",
       "      <td>3.606588</td>\n",
       "      <td>32.226418</td>\n",
       "      <td>4.601387</td>\n",
       "      <td>1.261526</td>\n",
       "      <td>18.100295</td>\n",
       "      <td>92.430000</td>\n",
       "    </tr>\n",
       "    <tr>\n",
       "      <th>skewness</th>\n",
       "      <td>0.00000</td>\n",
       "      <td>0.037235</td>\n",
       "      <td>-0.423781</td>\n",
       "      <td>-0.446003</td>\n",
       "      <td>0.422322</td>\n",
       "      <td>-0.353787</td>\n",
       "      <td>0.400075</td>\n",
       "      <td>0.299474</td>\n",
       "      <td>-0.319736</td>\n",
       "      <td>-0.349235</td>\n",
       "      <td>0.023996</td>\n",
       "      <td>-0.008869</td>\n",
       "      <td>0.170016</td>\n",
       "      <td>0.250667</td>\n",
       "    </tr>\n",
       "  </tbody>\n",
       "</table>\n",
       "</div>"
      ],
      "text/plain": [
       "               Index     Arithmancy    Astronomy    Herbology  \\\n",
       "count     1600.00000    1566.000000  1568.000000  1567.000000   \n",
       "mean       799.50000   49634.570243    39.797131     1.141020   \n",
       "std        462.02453   16679.806036   520.298268     5.219682   \n",
       "min          0.00000  -24370.000000  -966.740546   -10.295663   \n",
       "25%        399.75000   38511.500000  -489.551387    -4.308182   \n",
       "50%        799.50000   49013.500000   260.289446     3.469012   \n",
       "75%       1199.25000   60811.250000   524.771949     5.419183   \n",
       "max       1599.00000  104956.000000  1016.211940    11.612895   \n",
       "range     1599.00000  129326.000000  1982.952486    21.908558   \n",
       "iqr        799.50000   22299.750000  1014.323336     9.727365   \n",
       "skewness     0.00000       0.037235    -0.423781    -0.446003   \n",
       "\n",
       "          Defense Against the Dark Arts   Divination  Muggle Studies  \\\n",
       "count                       1569.000000  1561.000000     1565.000000   \n",
       "mean                          -0.387863     3.153910     -224.589915   \n",
       "std                            5.212794     4.155301      486.344840   \n",
       "min                          -10.162119    -8.727000    -1086.496835   \n",
       "25%                           -5.259095     3.099000     -577.580096   \n",
       "50%                           -2.589342     4.624000     -419.164294   \n",
       "75%                            4.904680     5.667000      254.994857   \n",
       "max                            9.667405    10.032000     1092.388611   \n",
       "range                         19.829525    18.759000     2178.885445   \n",
       "iqr                           10.163775     2.568000      832.574954   \n",
       "skewness                       0.422322    -0.353787        0.400075   \n",
       "\n",
       "          Ancient Runes  History of Magic  Transfiguration      Potions  \\\n",
       "count       1565.000000       1557.000000      1566.000000  1570.000000   \n",
       "mean         495.747970          2.963095      1030.096946     5.950373   \n",
       "std          106.285165          4.425775        44.125116     3.147854   \n",
       "min          283.869609         -8.858993       906.627320    -4.697484   \n",
       "25%          397.511047          2.218653      1026.209993     3.646785   \n",
       "50%          463.918305          4.378176      1045.506996     5.874837   \n",
       "75%          597.492230          5.825242      1058.436410     8.248173   \n",
       "max          745.396220         11.889713      1098.958201    13.536762   \n",
       "range        461.526611         20.748706       192.330881    18.234246   \n",
       "iqr          199.981183          3.606588        32.226418     4.601387   \n",
       "skewness       0.299474         -0.319736        -0.349235     0.023996   \n",
       "\n",
       "          Care of Magical Creatures       Charms       Flying  \n",
       "count                   1560.000000  1600.000000  1600.000000  \n",
       "mean                      -0.053427  -243.374409    21.958012  \n",
       "std                        0.971457     8.783640    97.631602  \n",
       "min                       -3.313676  -261.048920  -181.470000  \n",
       "25%                       -0.671606  -250.652600   -41.870000  \n",
       "50%                       -0.044811  -244.867765    -2.515000  \n",
       "75%                        0.589919  -232.552305    50.560000  \n",
       "max                        3.056546  -225.428140   279.070000  \n",
       "range                      6.370222    35.620780   460.540000  \n",
       "iqr                        1.261526    18.100295    92.430000  \n",
       "skewness                  -0.008869     0.170016     0.250667  "
      ]
     },
     "execution_count": 17,
     "metadata": {},
     "output_type": "execute_result"
    }
   ],
   "source": [
    "from data.describe import ft_describe\n",
    "\n",
    "custom_stats = ft_describe(df, is_bonus=True)\n",
    "custom_stats"
   ]
  },
  {
   "cell_type": "markdown",
   "id": "4fb85724",
   "metadata": {},
   "source": [
    "- compare results with pandas built-in `describe()` method to verify accuracy."
   ]
  },
  {
   "cell_type": "code",
   "execution_count": null,
   "metadata": {},
   "outputs": [],
   "source": [
    "pandas_stats = df.describe()\n",
    "\n",
    "column = 'Astronomy'\n",
    "comparison = pd.DataFrame({\n",
    "    'Custom': custom_stats[column].loc[['count', 'mean', 'std', 'min', '25%', '50%', '75%', 'max']],\n",
    "    'Pandas': pandas_stats[column]\n",
    "})\n",
    "\n",
    "comparison['Difference'] = comparison['Custom'] - comparison['Pandas']\n",
    "comparison['% Diff'] = (comparison['Difference'] / comparison['Pandas'] * 100).round(6)\n",
    "\n",
    "comparison"
   ]
  },
  {
   "cell_type": "markdown",
   "metadata": {},
   "source": [
    "- distribution of students across the four Hogwarts houses."
   ]
  },
  {
   "cell_type": "code",
   "execution_count": null,
   "metadata": {},
   "outputs": [],
   "source": [
    "house_counts = df['Hogwarts House'].value_counts()\n",
    "colors = {\n",
    "    'Gryffindor': 'red',\n",
    "    'Hufflepuff': 'yellow',\n",
    "    'Ravenclaw': 'blue',\n",
    "    'Slytherin': 'green'\n",
    "}\n",
    "\n",
    "plt.figure(figsize=(10, 6))\n",
    "house_counts.plot(kind='bar', color=[colors[house] for house in house_counts.index])\n",
    "plt.title('Distribution of Students Across Hogwarts Houses', fontsize=15)\n",
    "plt.xlabel('House', fontsize=12)\n",
    "plt.ylabel('Number of Students', fontsize=12)\n",
    "plt.xticks(rotation=45)\n",
    "plt.tight_layout()\n",
    "plt.show()\n",
    "\n",
    "print(f\"Total students: {house_counts.sum()}\")\n",
    "for house, count in house_counts.items():\n",
    "    print(f\"{house}: {count} students ({count/house_counts.sum()*100:.1f}%)\")"
   ]
  },
  {
   "cell_type": "markdown",
   "metadata": {},
   "source": [
    "## 2. Data Visualization & Feature Selection\n",
    "\n",
    "These functions allows us to visualize how each house performs in a given course. The distributions help us detect patterns or differences between the houses.\n",
    "\n",
    "Start with exploring features to understand which ones are useful for classifying students."
   ]
  },
  {
   "cell_type": "code",
   "execution_count": null,
   "metadata": {},
   "outputs": [],
   "source": [
    "from visualization.utils import HOUSE_COLORS\n",
    "\n",
    "def plot_course_histogram(course):\n",
    "    plt.figure(figsize=(12, 6))\n",
    "    sns.histplot(\n",
    "        df,\n",
    "        x=course,\n",
    "        hue='Hogwarts House',\n",
    "        palette=HOUSE_COLORS,\n",
    "        element='step',\n",
    "        multiple='layer'\n",
    "    )\n",
    "    plt.title(f\"{course} Score Distribution by House\", fontsize=15)\n",
    "    plt.xlabel(\"Score\", fontsize=12)\n",
    "    plt.ylabel(\"Number of Students\", fontsize=12)\n",
    "    plt.tight_layout()\n",
    "    plt.show()"
   ]
  },
  {
   "cell_type": "markdown",
   "id": "396348f9",
   "metadata": {},
   "source": [
    "The dataset shows a **homogeneous distribution** for the courses `Care of Magical Creatures` and `Arithmancy`. This indicates that the features may not provide meaningful separation between the Hogwarts houses.\n",
    "\n",
    "Exclude this features from the training stage to avoid introducing noise or redundant information into the model."
   ]
  },
  {
   "cell_type": "code",
   "execution_count": null,
   "metadata": {},
   "outputs": [],
   "source": [
    "plot_course_histogram('Care of Magical Creatures')\n",
    "plot_course_histogram('Arithmancy')"
   ]
  },
  {
   "cell_type": "code",
   "execution_count": null,
   "metadata": {},
   "outputs": [],
   "source": [
    "def create_scatter_plot(x_feature, y_feature):\n",
    "    plt.figure(figsize=(10, 8))\n",
    "    sns.scatterplot(\n",
    "        data=df,\n",
    "        x=x_feature,\n",
    "        y=y_feature,\n",
    "        hue='Hogwarts House',\n",
    "        palette=HOUSE_COLORS,\n",
    "        alpha=0.7\n",
    "    )\n",
    "    plt.title(f\"{x_feature} vs {y_feature}\", fontsize=15)\n",
    "    plt.xlabel(x_feature, fontsize=12)\n",
    "    plt.ylabel(y_feature, fontsize=12)\n",
    "    plt.tight_layout()\n",
    "    plt.show()"
   ]
  },
  {
   "cell_type": "markdown",
   "id": "faf0a70d",
   "metadata": {},
   "source": [
    "Among all the data, the features **'Astronomy'** and **'Defense Against the Dark Arts'** are highly correlated. Including both in the training stage may introduce redundancy and noise into the model.\n",
    "\n",
    "Using only one of these features is necessary."
   ]
  },
  {
   "cell_type": "code",
   "execution_count": null,
   "metadata": {},
   "outputs": [],
   "source": [
    "create_scatter_plot('Astronomy', 'Defense Against the Dark Arts')"
   ]
  },
  {
   "cell_type": "markdown",
   "metadata": {},
   "source": [
    "Let's create a subset of the pair plot focusing on the most relevant features for classification."
   ]
  },
  {
   "cell_type": "markdown",
   "metadata": {},
   "source": [
    "## 3. Preprocess the Datasets"
   ]
  },
  {
   "cell_type": "markdown",
   "id": "58b1e543",
   "metadata": {},
   "source": [
    "Prepare the dataset"
   ]
  },
  {
   "cell_type": "code",
   "execution_count": null,
   "metadata": {},
   "outputs": [],
   "source": [
    "TEST_DATASET = '../../data/raw/dataset_test.csv'\n",
    "\n",
    "FEATURES_TO_DROP = [\n",
    "    'Care of Magical Creatures',          # Homogeneous\n",
    "    'Arithmancy',                         # Homogeneous\n",
    "    'Defense Against the Dark Arts',      # Similar to Astronomy\n",
    "\n",
    "    'First Name',                         # Not useful for analysis\n",
    "    'Last Name',                          # Not useful for analysis\n",
    "    'Birthday',                           # Not useful for analysis\n",
    "    'Best Hand',                          # Not useful for analysis\n",
    "    'Index'                               # Not useful for analysis\n",
    "]\n",
    "\n",
    "prediction_df = pd.read_csv(TEST_DATASET)\n",
    "prediction_df.drop(columns=FEATURES_TO_DROP, inplace=True)\n",
    "prediction_df.fillna(0.0, inplace=True)\n",
    "\n",
    "\n",
    "raw_df = pd.read_csv(train_dataset_path)\n",
    "processed_df = raw_df.drop(columns=FEATURES_TO_DROP)\n",
    "processed_df.fillna(0.0, inplace=True)\n",
    "\n",
    "processed_df.head()"
   ]
  },
  {
   "cell_type": "code",
   "execution_count": null,
   "id": "7d6824ef",
   "metadata": {},
   "outputs": [],
   "source": [
    "from sklearn.preprocessing import StandardScaler\n",
    "\n",
    "labels = processed_df['Hogwarts House']\n",
    "features_df = processed_df.drop('Hogwarts House', axis=1)\n",
    "prediction_features_df = prediction_df.drop('Hogwarts House', axis=1)\n",
    "\n",
    "scaler = StandardScaler()\n",
    "features = scaler.fit_transform(features_df)\n",
    "prediction_features = scaler.transform(prediction_features_df)"
   ]
  },
  {
   "cell_type": "markdown",
   "metadata": {},
   "source": [
    "## 4. Train Logistic Regression Models\n",
    "\n",
    "Train the model using **Mini-Batch Gradient Descent**."
   ]
  },
  {
   "cell_type": "code",
   "execution_count": null,
   "metadata": {},
   "outputs": [],
   "source": [
    "from models.train import train, TrainingConfig\n",
    "import time\n",
    "\n",
    "algo = \"mini_batch_gradient_descent\"\n",
    "\n",
    "config = TrainingConfig()\n",
    "\n",
    "print(f\"\\n--- Training with {algo} ---\")\n",
    "start = time.time()\n",
    "weights = train(algo, features, labels, config)\n",
    "duration = time.time() - start\n",
    "\n",
    "f'Training completed in {duration:.2f} seconds'"
   ]
  },
  {
   "cell_type": "markdown",
   "id": "de352ba4",
   "metadata": {},
   "source": [
    "## 5: Evaluate Model Performance\n",
    "\n",
    "Measure accuracy on the training set."
   ]
  },
  {
   "cell_type": "code",
   "execution_count": null,
   "metadata": {},
   "outputs": [],
   "source": [
    "from models.predict import predict\n",
    "\n",
    "predictions = predict(features, weights)\n",
    "\n",
    "matches = predictions['Hogwarts House'] == labels.reset_index(drop=True)\n",
    "accuracy = matches.sum() / len(matches) * 100\n",
    "f'{matches.sum()} out of {len(matches)} predictions match the actual labels ({accuracy:.3f}%) on the training set.'"
   ]
  },
  {
   "cell_type": "markdown",
   "id": "382b05b5",
   "metadata": {},
   "source": [
    "## 6: Predict and Export Results\n",
    "\n",
    "Now run function **predict** on prepared dataset where students are not attached to **Hogwarts Houses**\n",
    "Compare the results with scikit-learn Logistic Regression"
   ]
  },
  {
   "cell_type": "code",
   "execution_count": null,
   "id": "7268805a",
   "metadata": {},
   "outputs": [],
   "source": [
    "predictions = predict(prediction_features, weights)\n",
    "\n",
    "predictions.head()"
   ]
  },
  {
   "cell_type": "code",
   "execution_count": null,
   "id": "2bd57eac",
   "metadata": {},
   "outputs": [],
   "source": [
    "from sklearn.linear_model import LogisticRegression\n",
    "from sklearn.metrics import accuracy_score\n",
    "from sklearn.preprocessing import StandardScaler\n",
    "from sklearn.multiclass import OneVsRestClassifier\n",
    "\n",
    "scaler = StandardScaler()\n",
    "X_scaled = scaler.fit_transform(processed_df.drop(\"Hogwarts House\", axis=1))\n",
    "y = processed_df[\"Hogwarts House\"]\n",
    "\n",
    "model = OneVsRestClassifier(LogisticRegression(max_iter=1000))\n",
    "model.fit(X_scaled, y)\n",
    "\n",
    "sklearn_acc = accuracy_score(y, model.predict(X_scaled))\n",
    "f\"sklearn Logistic Regression accuracy on training dataset {sklearn_acc * 100:.3f}%\""
   ]
  },
  {
   "cell_type": "markdown",
   "id": "b95d6ea4",
   "metadata": {},
   "source": [
    "Compare the results"
   ]
  },
  {
   "cell_type": "code",
   "execution_count": null,
   "id": "082aed15",
   "metadata": {},
   "outputs": [],
   "source": [
    "\n",
    "sklearn_predictions = model.predict(prediction_features)\n",
    "models_match = accuracy_score(predictions, sklearn_predictions)\n",
    "\n",
    "f'{models_match * 100:.3f}% of the predictions match between the custom model and sklearn Logistic Regression'"
   ]
  }
 ],
 "metadata": {
  "kernelspec": {
   "display_name": "venv",
   "language": "python",
   "name": "python3"
  },
  "language_info": {
   "codemirror_mode": {
    "name": "ipython",
    "version": 3
   },
   "file_extension": ".py",
   "mimetype": "text/x-python",
   "name": "python",
   "nbconvert_exporter": "python",
   "pygments_lexer": "ipython3",
   "version": "3.13.2"
  }
 },
 "nbformat": 4,
 "nbformat_minor": 5
}
